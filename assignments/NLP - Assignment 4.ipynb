{
 "cells": [
  {
   "cell_type": "markdown",
   "id": "044ab990",
   "metadata": {},
   "source": [
    "### Assignment 4\n",
    "\n",
    "#### Author: Aashish Singh\n",
    "<br>\n",
    "\n",
    "Create classification model, predicting the outcome of food safety inspection based on the inspectors’ comments\n",
    "\n",
    "- Leverage the results of your homework from Week-1 and Week-2 to extract free-form text comments from inspectors\n",
    "- Build a classification model, predicting the outcome of inspection – comments are predictors, target variable is “Results” column\n",
    "- Explain why you selected a particular text pre-processing technique\n",
    "- Visualize results of at least two text classifiers and select the most robust one\n",
    "- You can choose to build a binary classifier (limiting your data to Pass / Fail) or multinomial classifier with all available values in Results\n",
    "\n",
    "Rules and requirements:\n",
    "\n",
    "Your final output and the code should be contained within Jupyter Notebook (ipynb)"
   ]
  },
  {
   "cell_type": "markdown",
   "id": "ffe27932",
   "metadata": {},
   "source": [
    "### Leverage the results of your homework from Week-1 and Week-2 to extract free-form text comments from inspectors"
   ]
  },
  {
   "cell_type": "code",
   "execution_count": 1,
   "id": "b22e7fe0-1aec-457c-b0cf-1cc9758712e0",
   "metadata": {},
   "outputs": [
    {
     "name": "stderr",
     "output_type": "stream",
     "text": [
      "[nltk_data] Downloading package punkt to\n",
      "[nltk_data]     /Users/aashishsingh/nltk_data...\n",
      "[nltk_data]   Package punkt is already up-to-date!\n",
      "[nltk_data] Downloading package stopwords to\n",
      "[nltk_data]     /Users/aashishsingh/nltk_data...\n",
      "[nltk_data]   Package stopwords is already up-to-date!\n",
      "[nltk_data] Downloading package wordnet to\n",
      "[nltk_data]     /Users/aashishsingh/nltk_data...\n",
      "[nltk_data]   Package wordnet is already up-to-date!\n",
      "[nltk_data] Downloading package omw-1.4 to\n",
      "[nltk_data]     /Users/aashishsingh/nltk_data...\n",
      "[nltk_data]   Package omw-1.4 is already up-to-date!\n"
     ]
    }
   ],
   "source": [
    "import pandas as pd\n",
    "import requests\n",
    "import re\n",
    "import string\n",
    "from collections import Counter\n",
    "import seaborn as sns\n",
    "import matplotlib.pyplot as plt\n",
    "import wordcloud\n",
    "import nltk\n",
    "from nltk.tokenize import word_tokenize\n",
    "nltk.download('punkt')\n",
    "nltk.download('stopwords')\n",
    "from nltk.corpus import stopwords\n",
    "nltk.download('wordnet')\n",
    "nltk.download('omw-1.4')\n",
    "from sklearn.model_selection import train_test_split\n",
    "from sklearn.feature_extraction.text import CountVectorizer, HashingVectorizer, TfidfTransformer, TfidfVectorizer\n",
    "from sklearn.feature_selection import SelectKBest, chi2\n",
    "from sklearn.naive_bayes import MultinomialNB\n",
    "from sklearn.metrics import classification_report, confusion_matrix, accuracy_score, precision_recall_curve\n",
    "from sklearn.linear_model import LogisticRegression, SGDClassifier\n",
    "from sklearn import metrics"
   ]
  },
  {
   "cell_type": "code",
   "execution_count": 2,
   "id": "f6be523c",
   "metadata": {},
   "outputs": [
    {
     "name": "stdout",
     "output_type": "stream",
     "text": [
      "{'inspection_id': '2596729', 'dba_name': \"MCDONALD'S\", 'aka_name': \"MCDONALD'S\", 'license_': '2851197', 'facility_type': 'Restaurant', 'risk': 'Risk 2 (Medium)', 'address': '1737 W FULLERTON AVE ', 'city': 'CHICAGO', 'state': 'IL', 'zip': '60614', 'inspection_date': '2024-06-28T00:00:00.000', 'inspection_type': 'Short Form Complaint', 'results': 'Pass', 'latitude': '41.92498939160594', 'longitude': '-87.67215167412238', 'location': {'type': 'Point', 'coordinates': [-87.67215167412238, 41.92498939160594]}, ':@computed_region_awaf_s7ux': '16', ':@computed_region_6mkv_f3dw': '21190', ':@computed_region_vrxf_vc4k': '68', ':@computed_region_bdys_3d7i': '210', ':@computed_region_43wa_7qmu': '40'}\n"
     ]
    }
   ],
   "source": [
    "import requests\n",
    "\n",
    "def get_total_count(url):\n",
    "    try:\n",
    "        response = requests.get(url)\n",
    "        response.raise_for_status()  # Check if the request was successful\n",
    "        if response.text:  # Check if the response is not empty\n",
    "            return response.json()\n",
    "        else:\n",
    "            print(\"The response is empty.\")\n",
    "            return None\n",
    "    except requests.exceptions.HTTPError as http_err:\n",
    "        print(f\"HTTP error occurred: {http_err}\")\n",
    "    except requests.exceptions.RequestException as req_err:\n",
    "        print(f\"Request error occurred: {req_err}\")\n",
    "    except requests.exceptions.JSONDecodeError as json_err:\n",
    "        print(f\"JSON decode error occurred: {json_err}\")\n",
    "    return None\n",
    "\n",
    "# Example usage\n",
    "url = 'https://data.cityofchicago.org/resource/cwig-ma7x.json'\n",
    "total_count = get_total_count(url)\n",
    "print(total_count[150])\n"
   ]
  },
  {
   "cell_type": "code",
   "execution_count": 3,
   "id": "bbce3715-7a9f-4cb2-8842-4db140438ec5",
   "metadata": {},
   "outputs": [
    {
     "name": "stdout",
     "output_type": "stream",
     "text": [
      "Total number of records available: 275,149\n",
      "CPU times: user 21.7 ms, sys: 3.67 ms, total: 25.4 ms\n",
      "Wall time: 1.95 s\n"
     ]
    }
   ],
   "source": [
    "%%time\n",
    "\n",
    "# Define the API endpoint and parameters\n",
    "url = \"https://data.cityofchicago.org/resource/cwig-ma7x.json\"\n",
    "\n",
    "# Fetch the total count of records\n",
    "def get_total_count(url):\n",
    "    params = {\n",
    "        \"$select\": \"count(*)\"\n",
    "    }\n",
    "    response = requests.get(url, params=params)\n",
    "    data = response.json()\n",
    "    return int(data[0]['count'])\n",
    "\n",
    "total_count = get_total_count(url)\n",
    "print(f\"Total number of records available: {total_count:,.0f}\")"
   ]
  },
  {
   "cell_type": "code",
   "execution_count": 4,
   "id": "b518b821-f1a5-41c4-bc72-c9cdf688a006",
   "metadata": {},
   "outputs": [
    {
     "name": "stdout",
     "output_type": "stream",
     "text": [
      "Number of records retrieved: 275,149\n",
      "CPU times: user 10.4 s, sys: 1.67 s, total: 12.1 s\n",
      "Wall time: 51 s\n"
     ]
    }
   ],
   "source": [
    "%%time\n",
    "\n",
    "# Fetch data and load it into a pandas DataFrame\n",
    "def fetch_data(url, params):\n",
    "    response = requests.get(url, params=params)\n",
    "    data = response.json()\n",
    "    return pd.DataFrame(data)\n",
    "\n",
    "# Set the limit parameter equal to the number of available records\n",
    "params = {\n",
    "    \"$limit\": total_count\n",
    "}\n",
    "\n",
    "# Fetch the data and load it into a DataFrame\n",
    "df = fetch_data(url, params)\n",
    "\n",
    "print(f'Number of records retrieved: {df.shape[0]:,.0f}')"
   ]
  },
  {
   "cell_type": "code",
   "execution_count": 5,
   "id": "e43257ac-9a4c-40e8-9839-4d8fae83c486",
   "metadata": {},
   "outputs": [
    {
     "data": {
      "text/html": [
       "<div>\n",
       "<style scoped>\n",
       "    .dataframe tbody tr th:only-of-type {\n",
       "        vertical-align: middle;\n",
       "    }\n",
       "\n",
       "    .dataframe tbody tr th {\n",
       "        vertical-align: top;\n",
       "    }\n",
       "\n",
       "    .dataframe thead th {\n",
       "        text-align: right;\n",
       "    }\n",
       "</style>\n",
       "<table border=\"1\" class=\"dataframe\">\n",
       "  <thead>\n",
       "    <tr style=\"text-align: right;\">\n",
       "      <th></th>\n",
       "      <th>inspection_id</th>\n",
       "      <th>dba_name</th>\n",
       "      <th>aka_name</th>\n",
       "      <th>license_</th>\n",
       "      <th>facility_type</th>\n",
       "      <th>risk</th>\n",
       "      <th>address</th>\n",
       "      <th>city</th>\n",
       "      <th>state</th>\n",
       "      <th>zip</th>\n",
       "      <th>...</th>\n",
       "      <th>results</th>\n",
       "      <th>violations</th>\n",
       "      <th>latitude</th>\n",
       "      <th>longitude</th>\n",
       "      <th>location</th>\n",
       "      <th>:@computed_region_awaf_s7ux</th>\n",
       "      <th>:@computed_region_6mkv_f3dw</th>\n",
       "      <th>:@computed_region_vrxf_vc4k</th>\n",
       "      <th>:@computed_region_bdys_3d7i</th>\n",
       "      <th>:@computed_region_43wa_7qmu</th>\n",
       "    </tr>\n",
       "  </thead>\n",
       "  <tbody>\n",
       "    <tr>\n",
       "      <th>0</th>\n",
       "      <td>2597043</td>\n",
       "      <td>STEINGOLD'S BAGELS &amp; NOSH</td>\n",
       "      <td>STEINGOLD'S BAGELS &amp; NOSH</td>\n",
       "      <td>2956331</td>\n",
       "      <td>Restaurant</td>\n",
       "      <td>Risk 2 (Medium)</td>\n",
       "      <td>3626 N CLARK AVE</td>\n",
       "      <td>CHICAGO</td>\n",
       "      <td>IL</td>\n",
       "      <td>60613</td>\n",
       "      <td>...</td>\n",
       "      <td>Pass</td>\n",
       "      <td>10. ADEQUATE HANDWASHING SINKS PROPERLY SUPPLI...</td>\n",
       "      <td>41.94786410272433</td>\n",
       "      <td>-87.65721629118914</td>\n",
       "      <td>{'type': 'Point', 'coordinates': [-87.65721629...</td>\n",
       "      <td>38</td>\n",
       "      <td>21186</td>\n",
       "      <td>57</td>\n",
       "      <td>691</td>\n",
       "      <td>25</td>\n",
       "    </tr>\n",
       "    <tr>\n",
       "      <th>1</th>\n",
       "      <td>2597024</td>\n",
       "      <td>AMO FOOD &amp; DELI</td>\n",
       "      <td>AMO FOOD &amp; DELI</td>\n",
       "      <td>2862515</td>\n",
       "      <td>Grocery Store</td>\n",
       "      <td>Risk 1 (High)</td>\n",
       "      <td>4150 W Roosevelt RD</td>\n",
       "      <td>CHICAGO</td>\n",
       "      <td>IL</td>\n",
       "      <td>60624</td>\n",
       "      <td>...</td>\n",
       "      <td>Out of Business</td>\n",
       "      <td>NaN</td>\n",
       "      <td>41.86621695120304</td>\n",
       "      <td>-87.729689336645</td>\n",
       "      <td>{'type': 'Point', 'coordinates': [-87.72968933...</td>\n",
       "      <td>36</td>\n",
       "      <td>21572</td>\n",
       "      <td>30</td>\n",
       "      <td>98</td>\n",
       "      <td>14</td>\n",
       "    </tr>\n",
       "    <tr>\n",
       "      <th>2</th>\n",
       "      <td>2597030</td>\n",
       "      <td>SUSHI</td>\n",
       "      <td>SUSHI X</td>\n",
       "      <td>1301893</td>\n",
       "      <td>Restaurant</td>\n",
       "      <td>Risk 1 (High)</td>\n",
       "      <td>1136 W CHICAGO AVE</td>\n",
       "      <td>CHICAGO</td>\n",
       "      <td>IL</td>\n",
       "      <td>60642</td>\n",
       "      <td>...</td>\n",
       "      <td>Fail</td>\n",
       "      <td>2. CITY OF CHICAGO FOOD SERVICE SANITATION CER...</td>\n",
       "      <td>41.89635199197075</td>\n",
       "      <td>-87.65669038160023</td>\n",
       "      <td>{'type': 'Point', 'coordinates': [-87.65669038...</td>\n",
       "      <td>41</td>\n",
       "      <td>22620</td>\n",
       "      <td>25</td>\n",
       "      <td>109</td>\n",
       "      <td>46</td>\n",
       "    </tr>\n",
       "    <tr>\n",
       "      <th>3</th>\n",
       "      <td>2597005</td>\n",
       "      <td>RICANO'S RESTAURANT</td>\n",
       "      <td>ANGEL'S RESTAURANT</td>\n",
       "      <td>1942785</td>\n",
       "      <td>Restaurant</td>\n",
       "      <td>Risk 1 (High)</td>\n",
       "      <td>230 S ASHLAND AVE</td>\n",
       "      <td>CHICAGO</td>\n",
       "      <td>IL</td>\n",
       "      <td>60607</td>\n",
       "      <td>...</td>\n",
       "      <td>Pass</td>\n",
       "      <td>47. FOOD &amp; NON-FOOD CONTACT SURFACES CLEANABLE...</td>\n",
       "      <td>41.87792458388526</td>\n",
       "      <td>-87.66684936114616</td>\n",
       "      <td>{'type': 'Point', 'coordinates': [-87.66684936...</td>\n",
       "      <td>48</td>\n",
       "      <td>21184</td>\n",
       "      <td>29</td>\n",
       "      <td>90</td>\n",
       "      <td>46</td>\n",
       "    </tr>\n",
       "    <tr>\n",
       "      <th>4</th>\n",
       "      <td>2596998</td>\n",
       "      <td>BLACK DOG GELATO</td>\n",
       "      <td>BLACK DOG GELATO</td>\n",
       "      <td>2037079</td>\n",
       "      <td>Restaurant</td>\n",
       "      <td>Risk 2 (Medium)</td>\n",
       "      <td>859 N DAMEN AVE</td>\n",
       "      <td>CHICAGO</td>\n",
       "      <td>IL</td>\n",
       "      <td>60622</td>\n",
       "      <td>...</td>\n",
       "      <td>Pass</td>\n",
       "      <td>43. IN-USE UTENSILS: PROPERLY STORED - Comment...</td>\n",
       "      <td>41.89768855433332</td>\n",
       "      <td>-87.67695627466466</td>\n",
       "      <td>{'type': 'Point', 'coordinates': [-87.67695627...</td>\n",
       "      <td>16</td>\n",
       "      <td>21560</td>\n",
       "      <td>25</td>\n",
       "      <td>462</td>\n",
       "      <td>11</td>\n",
       "    </tr>\n",
       "  </tbody>\n",
       "</table>\n",
       "<p>5 rows × 22 columns</p>\n",
       "</div>"
      ],
      "text/plain": [
       "  inspection_id                   dba_name                   aka_name  \\\n",
       "0       2597043  STEINGOLD'S BAGELS & NOSH  STEINGOLD'S BAGELS & NOSH   \n",
       "1       2597024            AMO FOOD & DELI            AMO FOOD & DELI   \n",
       "2       2597030                      SUSHI                    SUSHI X   \n",
       "3       2597005        RICANO'S RESTAURANT         ANGEL'S RESTAURANT   \n",
       "4       2596998           BLACK DOG GELATO           BLACK DOG GELATO   \n",
       "\n",
       "  license_  facility_type             risk               address     city  \\\n",
       "0  2956331     Restaurant  Risk 2 (Medium)     3626 N CLARK AVE   CHICAGO   \n",
       "1  2862515  Grocery Store    Risk 1 (High)  4150 W Roosevelt RD   CHICAGO   \n",
       "2  1301893     Restaurant    Risk 1 (High)   1136 W CHICAGO AVE   CHICAGO   \n",
       "3  1942785     Restaurant    Risk 1 (High)    230 S ASHLAND AVE   CHICAGO   \n",
       "4  2037079     Restaurant  Risk 2 (Medium)      859 N DAMEN AVE   CHICAGO   \n",
       "\n",
       "  state    zip  ...          results  \\\n",
       "0    IL  60613  ...             Pass   \n",
       "1    IL  60624  ...  Out of Business   \n",
       "2    IL  60642  ...             Fail   \n",
       "3    IL  60607  ...             Pass   \n",
       "4    IL  60622  ...             Pass   \n",
       "\n",
       "                                          violations           latitude  \\\n",
       "0  10. ADEQUATE HANDWASHING SINKS PROPERLY SUPPLI...  41.94786410272433   \n",
       "1                                                NaN  41.86621695120304   \n",
       "2  2. CITY OF CHICAGO FOOD SERVICE SANITATION CER...  41.89635199197075   \n",
       "3  47. FOOD & NON-FOOD CONTACT SURFACES CLEANABLE...  41.87792458388526   \n",
       "4  43. IN-USE UTENSILS: PROPERLY STORED - Comment...  41.89768855433332   \n",
       "\n",
       "            longitude                                           location  \\\n",
       "0  -87.65721629118914  {'type': 'Point', 'coordinates': [-87.65721629...   \n",
       "1    -87.729689336645  {'type': 'Point', 'coordinates': [-87.72968933...   \n",
       "2  -87.65669038160023  {'type': 'Point', 'coordinates': [-87.65669038...   \n",
       "3  -87.66684936114616  {'type': 'Point', 'coordinates': [-87.66684936...   \n",
       "4  -87.67695627466466  {'type': 'Point', 'coordinates': [-87.67695627...   \n",
       "\n",
       "  :@computed_region_awaf_s7ux :@computed_region_6mkv_f3dw  \\\n",
       "0                          38                       21186   \n",
       "1                          36                       21572   \n",
       "2                          41                       22620   \n",
       "3                          48                       21184   \n",
       "4                          16                       21560   \n",
       "\n",
       "  :@computed_region_vrxf_vc4k :@computed_region_bdys_3d7i  \\\n",
       "0                          57                         691   \n",
       "1                          30                          98   \n",
       "2                          25                         109   \n",
       "3                          29                          90   \n",
       "4                          25                         462   \n",
       "\n",
       "  :@computed_region_43wa_7qmu  \n",
       "0                          25  \n",
       "1                          14  \n",
       "2                          46  \n",
       "3                          46  \n",
       "4                          11  \n",
       "\n",
       "[5 rows x 22 columns]"
      ]
     },
     "execution_count": 5,
     "metadata": {},
     "output_type": "execute_result"
    }
   ],
   "source": [
    "df.head(5)"
   ]
  },
  {
   "cell_type": "code",
   "execution_count": 6,
   "id": "39994cf7",
   "metadata": {},
   "outputs": [
    {
     "data": {
      "text/plain": [
       "(275149, 22)"
      ]
     },
     "execution_count": 6,
     "metadata": {},
     "output_type": "execute_result"
    }
   ],
   "source": [
    "df.shape"
   ]
  },
  {
   "cell_type": "code",
   "execution_count": 7,
   "id": "d8789e55",
   "metadata": {},
   "outputs": [
    {
     "data": {
      "text/plain": [
       "(199577, 22)"
      ]
     },
     "execution_count": 7,
     "metadata": {},
     "output_type": "execute_result"
    }
   ],
   "source": [
    "# Let's remove NA data rows\n",
    "df_clean = df[df['violations'].notna()]\n",
    "df_clean.shape"
   ]
  },
  {
   "cell_type": "code",
   "execution_count": 8,
   "id": "de2e53d7",
   "metadata": {},
   "outputs": [
    {
     "name": "stderr",
     "output_type": "stream",
     "text": [
      "/var/folders/5b/nrgxrp9569gbp8n_75d0kqy800_dzy/T/ipykernel_16363/2302380201.py:3: SettingWithCopyWarning: \n",
      "A value is trying to be set on a copy of a slice from a DataFrame.\n",
      "Try using .loc[row_indexer,col_indexer] = value instead\n",
      "\n",
      "See the caveats in the documentation: https://pandas.pydata.org/pandas-docs/stable/user_guide/indexing.html#returning-a-view-versus-a-copy\n",
      "  df_clean.loc[:, 'violations_comments'] = df_clean['violations'].apply(\n"
     ]
    },
    {
     "name": "stdout",
     "output_type": "stream",
     "text": [
      "violation_comments has following values for 1 data row:\n",
      "('OBSERVED NO CITY OF CHICAGO FOOD SANITATION CERTIFICATE POSTED ON THE PREMISES.  MANAGEMENT INSTRUCTED THAT A CERTIFIED FOOD MANAGER MUST BE PRESENT AT ALL TIMES WHILE TCS FOODS PREPARED OR SERVED.  PRIORITY FOUNDATION VIOLATION 7-38-012.  CITATION ISSUED. ', 'OBSERVED EVIDENCE OF RODENT ACTIVITY AND LIVE SMALL FLYING INSECTS ON THE PREMISES.  OBSERVED APPROX. 100 MOUSE DROPPINGS ON THE FLOOR AROUND THE MOP SINK, BEHIND THE CHEST FREEZERS, ON THE FLOOR OF THE BASEMENT STORAGE CLOSET, HVAC UTILITY CLOSET, AND ON THE SILL PLATES OF THE BASEMENT.  MANAGEMENT INSTRUCTED TO CLEAN AND REMOVE ALL RODENT DROPPINGS THROUGHOUT THE PREMISES.  ALSO OBSERVED APPROX. 20 LIVE SMALL FLYING INSECTS ON THE WALLS OF THE FOOD PREP AREA AND BASEMENT.  ADDITIONAL PEST CONTROL SERVICE IS NEEDED TO ELIMINATE THE PEST ACTIVITY.  PRIORITY FOUNDATION VIOLATION 7-38-020(A). CITATION ISSUED. ', 'CLEAN THE STORAGE SHELVES IN THE FOOD PREP AREA, TOASTER OVEN, FOOD STORAGE CONTAINERS AND EXTERIOR OF THE GREASE TRAP. ', 'OBSERVED THE FLOOR OF THE WALK-IN COOLER TO BE HEAVILY RUSTED AND DEGRADED.  MANAGEMENT INSTRUCTED TO REPLACE THE FLOORING WITH A SMOOTH AND EASILY CLEANABLE SURFACE. ', 'OBSERVED SEVERAL HOLES IN THE DRYWALL NEXT TO THE 2 DOOR FREEZER UNIT NEAR THE BACK EXIT DOOR.  MANAGEMENT INSTRUCTED TO REPAIR THE OPENINGS IN THE WALL. ', 'CLEAN THE GREASE AND FOOD DEBRIS ON THE WALLS OF THE FOOD PREP AREA, ESPECIALLY BEHIND THE COOKING EQUIPMENT. ', 'PREVIOUS CORE VIOLATIONS FROM REPORT #2585500 ON 11/20/23 NOT CORRECTED:  49 - OBSERVED ACCUMULATED GREASE AND FOOD DEBRIS ON INTERIOR AND EXTERIOR SURFACES OF COOKING EQUIPMENT, PREP TABLES, COOLERS, FREEZERS. INSTRUCTED MANAGER TO CLEAN AND MAINTAIN.  57 - OBSERVED NO FOOD HANDLER CERTIFICATES ON SITE AT THE TIME OF INSPECTION. INSTRUCTED ALL EMPLOYEES MUST COMPLETE FOOD HANDLER TRAINING AND MAINTAIN RECORDS THEREOF ON SITE AT ALL TIMES.  58 - OBSERVED NO ALLERGEN TRAINING ON SITE AT THE TIME OF INSPECTION. INSTRUCTED ALL EMPLOYEES HOLDING CITY OF CHICAGO FOODSERVICE MANAGER CERTIFICATES TO COMPLETE ALLERGEN TRAINING AND MAINTAIN RECORDS THEREOF ON SITE AT ALL TIMES.  PRIORITY FOUNDATION VIOLATION 7-42-090. CITATION ISSUED.')\n"
     ]
    }
   ],
   "source": [
    "# Made corrections to ensure text extraction is correct for comments\n",
    "# Extract comments from 'violations'\n",
    "df_clean.loc[:, 'violations_comments'] = df_clean['violations'].apply(\n",
    "    lambda x: re.findall(r'\\d\\.\\s[^|]+ - Comments: ([^|]+)', x))\n",
    "\n",
    "print(\"violation_comments has following values for 1 data row:\")\n",
    "print(df_clean['violations_comments'].apply(tuple).unique()[1])"
   ]
  },
  {
   "cell_type": "markdown",
   "id": "0f9da31f",
   "metadata": {},
   "source": [
    "### You can choose to build a binary classifier (limiting your data to Pass / Fail) or multinomial classifier with all available values in Results"
   ]
  },
  {
   "cell_type": "code",
   "execution_count": 9,
   "id": "bee9edde",
   "metadata": {},
   "outputs": [
    {
     "data": {
      "text/plain": [
       "array(['Pass', 'Fail', 'Pass w/ Conditions', 'No Entry', 'Not Ready',\n",
       "       'Out of Business'], dtype=object)"
      ]
     },
     "execution_count": 9,
     "metadata": {},
     "output_type": "execute_result"
    }
   ],
   "source": [
    "# Let's look at all the unique values in 'results' column\n",
    "df_clean['results'].unique()"
   ]
  },
  {
   "cell_type": "code",
   "execution_count": 10,
   "id": "fb26273f",
   "metadata": {},
   "outputs": [
    {
     "name": "stdout",
     "output_type": "stream",
     "text": [
      "All results data shape = (199577, 23)\n",
      "Pass / Fail results data shape = (157744, 23)\n"
     ]
    }
   ],
   "source": [
    "# We'll make a binary classifier so will limit our data to 'Pass' and 'Fail'\n",
    "df_binary_results = df_clean[df_clean['results'].isin(['Pass','Fail'])].copy()\n",
    "print(\"All results data shape =\",df_clean.shape)\n",
    "print(\"Pass / Fail results data shape =\",df_binary_results.shape)\n",
    "\n",
    "# Most of the data is 'Pass' or 'Fail' so it's good to consider binary classifier"
   ]
  },
  {
   "cell_type": "code",
   "execution_count": 11,
   "id": "b06fbd50",
   "metadata": {},
   "outputs": [
    {
     "name": "stdout",
     "output_type": "stream",
     "text": [
      "Pass    107487\n",
      "Fail     50257\n",
      "Name: results, dtype: int64\n"
     ]
    }
   ],
   "source": [
    "# Check distibution of Pass / Fail 'results' column values\n",
    "print(df_binary_results['results'].value_counts())"
   ]
  },
  {
   "cell_type": "code",
   "execution_count": 12,
   "id": "c6d3fbf5",
   "metadata": {},
   "outputs": [],
   "source": [
    "# Convert results column label to a binary numerical variable for model building\n",
    "df_binary_results['results_flag'] = df_binary_results.results.map({'Fail':0, 'Pass':1})"
   ]
  },
  {
   "cell_type": "code",
   "execution_count": 13,
   "id": "5bd1ee2f",
   "metadata": {},
   "outputs": [
    {
     "data": {
      "text/html": [
       "<div>\n",
       "<style scoped>\n",
       "    .dataframe tbody tr th:only-of-type {\n",
       "        vertical-align: middle;\n",
       "    }\n",
       "\n",
       "    .dataframe tbody tr th {\n",
       "        vertical-align: top;\n",
       "    }\n",
       "\n",
       "    .dataframe thead th {\n",
       "        text-align: right;\n",
       "    }\n",
       "</style>\n",
       "<table border=\"1\" class=\"dataframe\">\n",
       "  <thead>\n",
       "    <tr style=\"text-align: right;\">\n",
       "      <th></th>\n",
       "      <th>inspection_id</th>\n",
       "      <th>dba_name</th>\n",
       "      <th>aka_name</th>\n",
       "      <th>license_</th>\n",
       "      <th>facility_type</th>\n",
       "      <th>risk</th>\n",
       "      <th>address</th>\n",
       "      <th>city</th>\n",
       "      <th>state</th>\n",
       "      <th>zip</th>\n",
       "      <th>...</th>\n",
       "      <th>latitude</th>\n",
       "      <th>longitude</th>\n",
       "      <th>location</th>\n",
       "      <th>:@computed_region_awaf_s7ux</th>\n",
       "      <th>:@computed_region_6mkv_f3dw</th>\n",
       "      <th>:@computed_region_vrxf_vc4k</th>\n",
       "      <th>:@computed_region_bdys_3d7i</th>\n",
       "      <th>:@computed_region_43wa_7qmu</th>\n",
       "      <th>violations_comments</th>\n",
       "      <th>results_flag</th>\n",
       "    </tr>\n",
       "  </thead>\n",
       "  <tbody>\n",
       "    <tr>\n",
       "      <th>0</th>\n",
       "      <td>2597043</td>\n",
       "      <td>STEINGOLD'S BAGELS &amp; NOSH</td>\n",
       "      <td>STEINGOLD'S BAGELS &amp; NOSH</td>\n",
       "      <td>2956331</td>\n",
       "      <td>Restaurant</td>\n",
       "      <td>Risk 2 (Medium)</td>\n",
       "      <td>3626 N CLARK AVE</td>\n",
       "      <td>CHICAGO</td>\n",
       "      <td>IL</td>\n",
       "      <td>60613</td>\n",
       "      <td>...</td>\n",
       "      <td>41.94786410272433</td>\n",
       "      <td>-87.65721629118914</td>\n",
       "      <td>{'type': 'Point', 'coordinates': [-87.65721629...</td>\n",
       "      <td>38</td>\n",
       "      <td>21186</td>\n",
       "      <td>57</td>\n",
       "      <td>691</td>\n",
       "      <td>25</td>\n",
       "      <td>[MUST REMOVE THE SOAP, PAPER TOWELS AND HAND W...</td>\n",
       "      <td>1</td>\n",
       "    </tr>\n",
       "    <tr>\n",
       "      <th>2</th>\n",
       "      <td>2597030</td>\n",
       "      <td>SUSHI</td>\n",
       "      <td>SUSHI X</td>\n",
       "      <td>1301893</td>\n",
       "      <td>Restaurant</td>\n",
       "      <td>Risk 1 (High)</td>\n",
       "      <td>1136 W CHICAGO AVE</td>\n",
       "      <td>CHICAGO</td>\n",
       "      <td>IL</td>\n",
       "      <td>60642</td>\n",
       "      <td>...</td>\n",
       "      <td>41.89635199197075</td>\n",
       "      <td>-87.65669038160023</td>\n",
       "      <td>{'type': 'Point', 'coordinates': [-87.65669038...</td>\n",
       "      <td>41</td>\n",
       "      <td>22620</td>\n",
       "      <td>25</td>\n",
       "      <td>109</td>\n",
       "      <td>46</td>\n",
       "      <td>[OBSERVED NO CITY OF CHICAGO FOOD SANITATION C...</td>\n",
       "      <td>0</td>\n",
       "    </tr>\n",
       "    <tr>\n",
       "      <th>3</th>\n",
       "      <td>2597005</td>\n",
       "      <td>RICANO'S RESTAURANT</td>\n",
       "      <td>ANGEL'S RESTAURANT</td>\n",
       "      <td>1942785</td>\n",
       "      <td>Restaurant</td>\n",
       "      <td>Risk 1 (High)</td>\n",
       "      <td>230 S ASHLAND AVE</td>\n",
       "      <td>CHICAGO</td>\n",
       "      <td>IL</td>\n",
       "      <td>60607</td>\n",
       "      <td>...</td>\n",
       "      <td>41.87792458388526</td>\n",
       "      <td>-87.66684936114616</td>\n",
       "      <td>{'type': 'Point', 'coordinates': [-87.66684936...</td>\n",
       "      <td>48</td>\n",
       "      <td>21184</td>\n",
       "      <td>29</td>\n",
       "      <td>90</td>\n",
       "      <td>46</td>\n",
       "      <td>[OBSERVED RICE STORED IN PLASTIC GROCERY BAGS ...</td>\n",
       "      <td>1</td>\n",
       "    </tr>\n",
       "    <tr>\n",
       "      <th>4</th>\n",
       "      <td>2596998</td>\n",
       "      <td>BLACK DOG GELATO</td>\n",
       "      <td>BLACK DOG GELATO</td>\n",
       "      <td>2037079</td>\n",
       "      <td>Restaurant</td>\n",
       "      <td>Risk 2 (Medium)</td>\n",
       "      <td>859 N DAMEN AVE</td>\n",
       "      <td>CHICAGO</td>\n",
       "      <td>IL</td>\n",
       "      <td>60622</td>\n",
       "      <td>...</td>\n",
       "      <td>41.89768855433332</td>\n",
       "      <td>-87.67695627466466</td>\n",
       "      <td>{'type': 'Point', 'coordinates': [-87.67695627...</td>\n",
       "      <td>16</td>\n",
       "      <td>21560</td>\n",
       "      <td>25</td>\n",
       "      <td>462</td>\n",
       "      <td>11</td>\n",
       "      <td>[OBSERVED SCOOP STORED IN SUGAR WITH HANDLE DI...</td>\n",
       "      <td>1</td>\n",
       "    </tr>\n",
       "    <tr>\n",
       "      <th>8</th>\n",
       "      <td>2597031</td>\n",
       "      <td>SUBWAY</td>\n",
       "      <td>SUBWAY</td>\n",
       "      <td>2569761</td>\n",
       "      <td>Restaurant</td>\n",
       "      <td>Risk 1 (High)</td>\n",
       "      <td>1044 N FRANCISCO AVE</td>\n",
       "      <td>CHICAGO</td>\n",
       "      <td>IL</td>\n",
       "      <td>60622</td>\n",
       "      <td>...</td>\n",
       "      <td>41.900524957170965</td>\n",
       "      <td>-87.69943295362468</td>\n",
       "      <td>{'type': 'Point', 'coordinates': [-87.69943295...</td>\n",
       "      <td>10</td>\n",
       "      <td>21560</td>\n",
       "      <td>25</td>\n",
       "      <td>301</td>\n",
       "      <td>49</td>\n",
       "      <td>[OBSERVED 3-DOOR COOLER WITH AN AMBIENT AIR TE...</td>\n",
       "      <td>0</td>\n",
       "    </tr>\n",
       "  </tbody>\n",
       "</table>\n",
       "<p>5 rows × 24 columns</p>\n",
       "</div>"
      ],
      "text/plain": [
       "  inspection_id                   dba_name                   aka_name  \\\n",
       "0       2597043  STEINGOLD'S BAGELS & NOSH  STEINGOLD'S BAGELS & NOSH   \n",
       "2       2597030                      SUSHI                    SUSHI X   \n",
       "3       2597005        RICANO'S RESTAURANT         ANGEL'S RESTAURANT   \n",
       "4       2596998           BLACK DOG GELATO           BLACK DOG GELATO   \n",
       "8       2597031                     SUBWAY                     SUBWAY   \n",
       "\n",
       "  license_ facility_type             risk                address     city  \\\n",
       "0  2956331    Restaurant  Risk 2 (Medium)      3626 N CLARK AVE   CHICAGO   \n",
       "2  1301893    Restaurant    Risk 1 (High)    1136 W CHICAGO AVE   CHICAGO   \n",
       "3  1942785    Restaurant    Risk 1 (High)     230 S ASHLAND AVE   CHICAGO   \n",
       "4  2037079    Restaurant  Risk 2 (Medium)       859 N DAMEN AVE   CHICAGO   \n",
       "8  2569761    Restaurant    Risk 1 (High)  1044 N FRANCISCO AVE   CHICAGO   \n",
       "\n",
       "  state    zip  ...            latitude           longitude  \\\n",
       "0    IL  60613  ...   41.94786410272433  -87.65721629118914   \n",
       "2    IL  60642  ...   41.89635199197075  -87.65669038160023   \n",
       "3    IL  60607  ...   41.87792458388526  -87.66684936114616   \n",
       "4    IL  60622  ...   41.89768855433332  -87.67695627466466   \n",
       "8    IL  60622  ...  41.900524957170965  -87.69943295362468   \n",
       "\n",
       "                                            location  \\\n",
       "0  {'type': 'Point', 'coordinates': [-87.65721629...   \n",
       "2  {'type': 'Point', 'coordinates': [-87.65669038...   \n",
       "3  {'type': 'Point', 'coordinates': [-87.66684936...   \n",
       "4  {'type': 'Point', 'coordinates': [-87.67695627...   \n",
       "8  {'type': 'Point', 'coordinates': [-87.69943295...   \n",
       "\n",
       "  :@computed_region_awaf_s7ux :@computed_region_6mkv_f3dw  \\\n",
       "0                          38                       21186   \n",
       "2                          41                       22620   \n",
       "3                          48                       21184   \n",
       "4                          16                       21560   \n",
       "8                          10                       21560   \n",
       "\n",
       "  :@computed_region_vrxf_vc4k :@computed_region_bdys_3d7i  \\\n",
       "0                          57                         691   \n",
       "2                          25                         109   \n",
       "3                          29                          90   \n",
       "4                          25                         462   \n",
       "8                          25                         301   \n",
       "\n",
       "  :@computed_region_43wa_7qmu  \\\n",
       "0                          25   \n",
       "2                          46   \n",
       "3                          46   \n",
       "4                          11   \n",
       "8                          49   \n",
       "\n",
       "                                 violations_comments results_flag  \n",
       "0  [MUST REMOVE THE SOAP, PAPER TOWELS AND HAND W...            1  \n",
       "2  [OBSERVED NO CITY OF CHICAGO FOOD SANITATION C...            0  \n",
       "3  [OBSERVED RICE STORED IN PLASTIC GROCERY BAGS ...            1  \n",
       "4  [OBSERVED SCOOP STORED IN SUGAR WITH HANDLE DI...            1  \n",
       "8  [OBSERVED 3-DOOR COOLER WITH AN AMBIENT AIR TE...            0  \n",
       "\n",
       "[5 rows x 24 columns]"
      ]
     },
     "execution_count": 13,
     "metadata": {},
     "output_type": "execute_result"
    }
   ],
   "source": [
    "# Check how the data looks and if the columns are in proper shape for model building\n",
    "df_binary_results.head()"
   ]
  },
  {
   "cell_type": "code",
   "execution_count": 14,
   "id": "f7fbd770",
   "metadata": {},
   "outputs": [
    {
     "data": {
      "text/plain": [
       "['MUST REMOVE THE SOAP, PAPER TOWELS AND HAND WASHING SIGNAGE FROM THE ONE COMPARTMENT DUMP SINK IN THE FRONT FOOD PREP AREA. ',\n",
       " ' NOTED FLOORS THROUGHOUT THE BASEMENT KEG WALK-IN COOLER WITH DIRT AND DEBRIS. MUST CLEAN AND MAINTAIN.']"
      ]
     },
     "execution_count": 14,
     "metadata": {},
     "output_type": "execute_result"
    }
   ],
   "source": [
    "df_binary_results.violations_comments[0]"
   ]
  },
  {
   "cell_type": "code",
   "execution_count": 15,
   "id": "1244654a",
   "metadata": {},
   "outputs": [
    {
     "name": "stdout",
     "output_type": "stream",
     "text": [
      "MUST REMOVE THE SOAP, PAPER TOWELS AND HAND WASHING SIGNAGE FROM THE ONE COMPARTMENT DUMP SINK IN THE FRONT FOOD PREP AREA. \n",
      " NOTED FLOORS THROUGHOUT THE BASEMENT KEG WALK-IN COOLER WITH DIRT AND DEBRIS. MUST CLEAN AND MAINTAIN.\n"
     ]
    }
   ],
   "source": [
    "# Let's make each violations_comments its own row so that we can focus on each comment\n",
    "df_binary_results_exploded = df_binary_results.explode('violations_comments').reset_index(drop=True)\n",
    "print(df_binary_results_exploded.violations_comments[0])\n",
    "print(df_binary_results_exploded.violations_comments[1])"
   ]
  },
  {
   "cell_type": "code",
   "execution_count": 16,
   "id": "8c3f70ae",
   "metadata": {},
   "outputs": [
    {
     "data": {
      "text/html": [
       "<div>\n",
       "<style scoped>\n",
       "    .dataframe tbody tr th:only-of-type {\n",
       "        vertical-align: middle;\n",
       "    }\n",
       "\n",
       "    .dataframe tbody tr th {\n",
       "        vertical-align: top;\n",
       "    }\n",
       "\n",
       "    .dataframe thead th {\n",
       "        text-align: right;\n",
       "    }\n",
       "</style>\n",
       "<table border=\"1\" class=\"dataframe\">\n",
       "  <thead>\n",
       "    <tr style=\"text-align: right;\">\n",
       "      <th></th>\n",
       "      <th>dba_name</th>\n",
       "      <th>results</th>\n",
       "      <th>results_flag</th>\n",
       "      <th>violations_comments</th>\n",
       "    </tr>\n",
       "  </thead>\n",
       "  <tbody>\n",
       "    <tr>\n",
       "      <th>0</th>\n",
       "      <td>STEINGOLD'S BAGELS &amp; NOSH</td>\n",
       "      <td>Pass</td>\n",
       "      <td>1</td>\n",
       "      <td>MUST REMOVE THE SOAP, PAPER TOWELS AND HAND WA...</td>\n",
       "    </tr>\n",
       "    <tr>\n",
       "      <th>1</th>\n",
       "      <td>STEINGOLD'S BAGELS &amp; NOSH</td>\n",
       "      <td>Pass</td>\n",
       "      <td>1</td>\n",
       "      <td>NOTED FLOORS THROUGHOUT THE BASEMENT KEG WALK...</td>\n",
       "    </tr>\n",
       "    <tr>\n",
       "      <th>2</th>\n",
       "      <td>SUSHI</td>\n",
       "      <td>Fail</td>\n",
       "      <td>0</td>\n",
       "      <td>OBSERVED NO CITY OF CHICAGO FOOD SANITATION CE...</td>\n",
       "    </tr>\n",
       "    <tr>\n",
       "      <th>3</th>\n",
       "      <td>SUSHI</td>\n",
       "      <td>Fail</td>\n",
       "      <td>0</td>\n",
       "      <td>OBSERVED EVIDENCE OF RODENT ACTIVITY AND LIVE ...</td>\n",
       "    </tr>\n",
       "    <tr>\n",
       "      <th>4</th>\n",
       "      <td>SUSHI</td>\n",
       "      <td>Fail</td>\n",
       "      <td>0</td>\n",
       "      <td>CLEAN THE STORAGE SHELVES IN THE FOOD PREP ARE...</td>\n",
       "    </tr>\n",
       "  </tbody>\n",
       "</table>\n",
       "</div>"
      ],
      "text/plain": [
       "                    dba_name results  results_flag  \\\n",
       "0  STEINGOLD'S BAGELS & NOSH    Pass             1   \n",
       "1  STEINGOLD'S BAGELS & NOSH    Pass             1   \n",
       "2                      SUSHI    Fail             0   \n",
       "3                      SUSHI    Fail             0   \n",
       "4                      SUSHI    Fail             0   \n",
       "\n",
       "                                 violations_comments  \n",
       "0  MUST REMOVE THE SOAP, PAPER TOWELS AND HAND WA...  \n",
       "1   NOTED FLOORS THROUGHOUT THE BASEMENT KEG WALK...  \n",
       "2  OBSERVED NO CITY OF CHICAGO FOOD SANITATION CE...  \n",
       "3  OBSERVED EVIDENCE OF RODENT ACTIVITY AND LIVE ...  \n",
       "4  CLEAN THE STORAGE SHELVES IN THE FOOD PREP ARE...  "
      ]
     },
     "execution_count": 16,
     "metadata": {},
     "output_type": "execute_result"
    }
   ],
   "source": [
    "# Let's check how the data looks now\n",
    "df_binary_results_exploded[['dba_name', 'results', 'results_flag', 'violations_comments']].head()"
   ]
  },
  {
   "cell_type": "code",
   "execution_count": 17,
   "id": "f9303530",
   "metadata": {},
   "outputs": [
    {
     "data": {
      "text/plain": [
       "(676265, 24)"
      ]
     },
     "execution_count": 17,
     "metadata": {},
     "output_type": "execute_result"
    }
   ],
   "source": [
    "df_binary_results_exploded = df_binary_results_exploded[df_binary_results_exploded['violations_comments'].notna()]\n",
    "df_binary_results_exploded.shape"
   ]
  },
  {
   "cell_type": "code",
   "execution_count": 18,
   "id": "c299f999",
   "metadata": {},
   "outputs": [
    {
     "data": {
      "text/html": [
       "<div>\n",
       "<style scoped>\n",
       "    .dataframe tbody tr th:only-of-type {\n",
       "        vertical-align: middle;\n",
       "    }\n",
       "\n",
       "    .dataframe tbody tr th {\n",
       "        vertical-align: top;\n",
       "    }\n",
       "\n",
       "    .dataframe thead th {\n",
       "        text-align: right;\n",
       "    }\n",
       "</style>\n",
       "<table border=\"1\" class=\"dataframe\">\n",
       "  <thead>\n",
       "    <tr style=\"text-align: right;\">\n",
       "      <th></th>\n",
       "      <th>violations_comments</th>\n",
       "      <th>violations_comments_cleaned</th>\n",
       "    </tr>\n",
       "  </thead>\n",
       "  <tbody>\n",
       "    <tr>\n",
       "      <th>0</th>\n",
       "      <td>MUST REMOVE THE SOAP, PAPER TOWELS AND HAND WA...</td>\n",
       "      <td>must remove the soap , paper towels and hand w...</td>\n",
       "    </tr>\n",
       "    <tr>\n",
       "      <th>1</th>\n",
       "      <td>NOTED FLOORS THROUGHOUT THE BASEMENT KEG WALK...</td>\n",
       "      <td>noted floors throughout the basement keg walk-...</td>\n",
       "    </tr>\n",
       "    <tr>\n",
       "      <th>2</th>\n",
       "      <td>OBSERVED NO CITY OF CHICAGO FOOD SANITATION CE...</td>\n",
       "      <td>observed no city of chicago food sanitation ce...</td>\n",
       "    </tr>\n",
       "    <tr>\n",
       "      <th>3</th>\n",
       "      <td>OBSERVED EVIDENCE OF RODENT ACTIVITY AND LIVE ...</td>\n",
       "      <td>observed evidence of rodent activity and live ...</td>\n",
       "    </tr>\n",
       "    <tr>\n",
       "      <th>4</th>\n",
       "      <td>CLEAN THE STORAGE SHELVES IN THE FOOD PREP ARE...</td>\n",
       "      <td>clean the storage shelves in the food prep are...</td>\n",
       "    </tr>\n",
       "  </tbody>\n",
       "</table>\n",
       "</div>"
      ],
      "text/plain": [
       "                                 violations_comments  \\\n",
       "0  MUST REMOVE THE SOAP, PAPER TOWELS AND HAND WA...   \n",
       "1   NOTED FLOORS THROUGHOUT THE BASEMENT KEG WALK...   \n",
       "2  OBSERVED NO CITY OF CHICAGO FOOD SANITATION CE...   \n",
       "3  OBSERVED EVIDENCE OF RODENT ACTIVITY AND LIVE ...   \n",
       "4  CLEAN THE STORAGE SHELVES IN THE FOOD PREP ARE...   \n",
       "\n",
       "                         violations_comments_cleaned  \n",
       "0  must remove the soap , paper towels and hand w...  \n",
       "1  noted floors throughout the basement keg walk-...  \n",
       "2  observed no city of chicago food sanitation ce...  \n",
       "3  observed evidence of rodent activity and live ...  \n",
       "4  clean the storage shelves in the food prep are...  "
      ]
     },
     "execution_count": 18,
     "metadata": {},
     "output_type": "execute_result"
    }
   ],
   "source": [
    "# Text pre-processing (tokenize) for better violation comment data\n",
    "def preprocess_text(text):\n",
    "    # Tokenize text\n",
    "    words = word_tokenize(text.lower())\n",
    "    return ' '.join(words)\n",
    "\n",
    "df_binary_results_exploded['violations_comments_cleaned'] = df_binary_results_exploded['violations_comments'].apply(preprocess_text)\n",
    "df_binary_results_exploded[['violations_comments', 'violations_comments_cleaned']].head()\n"
   ]
  },
  {
   "cell_type": "code",
   "execution_count": 19,
   "id": "6b166286",
   "metadata": {},
   "outputs": [
    {
     "name": "stdout",
     "output_type": "stream",
     "text": [
      "X Shape: (676265,)\n",
      "y Shape: (676265,)\n"
     ]
    }
   ],
   "source": [
    "# Create X, y for model building\n",
    "X = df_binary_results_exploded['violations_comments_cleaned']\n",
    "y = df_binary_results_exploded['results_flag']\n",
    "\n",
    "print(f\"X Shape: {X.shape}\")\n",
    "print(f\"y Shape: {y.shape}\")"
   ]
  },
  {
   "cell_type": "code",
   "execution_count": 20,
   "id": "be25be66",
   "metadata": {},
   "outputs": [
    {
     "data": {
      "text/plain": [
       "(676265, 46294)"
      ]
     },
     "execution_count": 20,
     "metadata": {},
     "output_type": "execute_result"
    }
   ],
   "source": [
    "# Let's convert text data into TF-IDF features We use TF-IDF due to it's relevance to inspection data \n",
    "# as the inspector comments often contain domain-specific jargon that might be common across \n",
    "# many inspections. TF-IDF will help highlight terms that are unique to specific inspections, making \n",
    "# it more effective for our classification task.\n",
    "tfidfvectorizer = TfidfVectorizer(stop_words='english')\n",
    "X_tfidf = tfidfvectorizer.fit_transform(X)\n",
    "X_tfidf.shape"
   ]
  },
  {
   "cell_type": "code",
   "execution_count": 21,
   "id": "2cee6f61",
   "metadata": {},
   "outputs": [
    {
     "data": {
      "text/html": [
       "<div>\n",
       "<style scoped>\n",
       "    .dataframe tbody tr th:only-of-type {\n",
       "        vertical-align: middle;\n",
       "    }\n",
       "\n",
       "    .dataframe tbody tr th {\n",
       "        vertical-align: top;\n",
       "    }\n",
       "\n",
       "    .dataframe thead th {\n",
       "        text-align: right;\n",
       "    }\n",
       "</style>\n",
       "<table border=\"1\" class=\"dataframe\">\n",
       "  <thead>\n",
       "    <tr style=\"text-align: right;\">\n",
       "      <th></th>\n",
       "      <th>005</th>\n",
       "      <th>020</th>\n",
       "      <th>030</th>\n",
       "      <th>38</th>\n",
       "      <th>citation</th>\n",
       "      <th>clean</th>\n",
       "      <th>control</th>\n",
       "      <th>critical</th>\n",
       "      <th>droppings</th>\n",
       "      <th>foundation</th>\n",
       "      <th>issued</th>\n",
       "      <th>live</th>\n",
       "      <th>mice</th>\n",
       "      <th>need</th>\n",
       "      <th>pest</th>\n",
       "      <th>policy</th>\n",
       "      <th>priority</th>\n",
       "      <th>site</th>\n",
       "      <th>temperature</th>\n",
       "      <th>violation</th>\n",
       "    </tr>\n",
       "  </thead>\n",
       "  <tbody>\n",
       "    <tr>\n",
       "      <th>0</th>\n",
       "      <td>0.0</td>\n",
       "      <td>0.000000</td>\n",
       "      <td>0.0</td>\n",
       "      <td>0.000000</td>\n",
       "      <td>0.000000</td>\n",
       "      <td>0.000000</td>\n",
       "      <td>0.000000</td>\n",
       "      <td>0.0</td>\n",
       "      <td>0.000000</td>\n",
       "      <td>0.000000</td>\n",
       "      <td>0.000000</td>\n",
       "      <td>0.000000</td>\n",
       "      <td>0.0</td>\n",
       "      <td>0.000000</td>\n",
       "      <td>0.000000</td>\n",
       "      <td>0.0</td>\n",
       "      <td>0.000000</td>\n",
       "      <td>0.0</td>\n",
       "      <td>0.0</td>\n",
       "      <td>0.000000</td>\n",
       "    </tr>\n",
       "    <tr>\n",
       "      <th>1</th>\n",
       "      <td>0.0</td>\n",
       "      <td>0.000000</td>\n",
       "      <td>0.0</td>\n",
       "      <td>0.000000</td>\n",
       "      <td>0.000000</td>\n",
       "      <td>0.148176</td>\n",
       "      <td>0.000000</td>\n",
       "      <td>0.0</td>\n",
       "      <td>0.000000</td>\n",
       "      <td>0.000000</td>\n",
       "      <td>0.000000</td>\n",
       "      <td>0.000000</td>\n",
       "      <td>0.0</td>\n",
       "      <td>0.000000</td>\n",
       "      <td>0.000000</td>\n",
       "      <td>0.0</td>\n",
       "      <td>0.000000</td>\n",
       "      <td>0.0</td>\n",
       "      <td>0.0</td>\n",
       "      <td>0.000000</td>\n",
       "    </tr>\n",
       "    <tr>\n",
       "      <th>2</th>\n",
       "      <td>0.0</td>\n",
       "      <td>0.000000</td>\n",
       "      <td>0.0</td>\n",
       "      <td>0.133691</td>\n",
       "      <td>0.152897</td>\n",
       "      <td>0.000000</td>\n",
       "      <td>0.000000</td>\n",
       "      <td>0.0</td>\n",
       "      <td>0.000000</td>\n",
       "      <td>0.160525</td>\n",
       "      <td>0.152331</td>\n",
       "      <td>0.000000</td>\n",
       "      <td>0.0</td>\n",
       "      <td>0.000000</td>\n",
       "      <td>0.000000</td>\n",
       "      <td>0.0</td>\n",
       "      <td>0.151667</td>\n",
       "      <td>0.0</td>\n",
       "      <td>0.0</td>\n",
       "      <td>0.140486</td>\n",
       "    </tr>\n",
       "    <tr>\n",
       "      <th>3</th>\n",
       "      <td>0.0</td>\n",
       "      <td>0.090842</td>\n",
       "      <td>0.0</td>\n",
       "      <td>0.063374</td>\n",
       "      <td>0.072478</td>\n",
       "      <td>0.044005</td>\n",
       "      <td>0.093723</td>\n",
       "      <td>0.0</td>\n",
       "      <td>0.212139</td>\n",
       "      <td>0.076094</td>\n",
       "      <td>0.072210</td>\n",
       "      <td>0.234314</td>\n",
       "      <td>0.0</td>\n",
       "      <td>0.000000</td>\n",
       "      <td>0.169501</td>\n",
       "      <td>0.0</td>\n",
       "      <td>0.071895</td>\n",
       "      <td>0.0</td>\n",
       "      <td>0.0</td>\n",
       "      <td>0.066595</td>\n",
       "    </tr>\n",
       "    <tr>\n",
       "      <th>4</th>\n",
       "      <td>0.0</td>\n",
       "      <td>0.000000</td>\n",
       "      <td>0.0</td>\n",
       "      <td>0.000000</td>\n",
       "      <td>0.000000</td>\n",
       "      <td>0.125810</td>\n",
       "      <td>0.000000</td>\n",
       "      <td>0.0</td>\n",
       "      <td>0.000000</td>\n",
       "      <td>0.000000</td>\n",
       "      <td>0.000000</td>\n",
       "      <td>0.000000</td>\n",
       "      <td>0.0</td>\n",
       "      <td>0.000000</td>\n",
       "      <td>0.000000</td>\n",
       "      <td>0.0</td>\n",
       "      <td>0.000000</td>\n",
       "      <td>0.0</td>\n",
       "      <td>0.0</td>\n",
       "      <td>0.000000</td>\n",
       "    </tr>\n",
       "    <tr>\n",
       "      <th>...</th>\n",
       "      <td>...</td>\n",
       "      <td>...</td>\n",
       "      <td>...</td>\n",
       "      <td>...</td>\n",
       "      <td>...</td>\n",
       "      <td>...</td>\n",
       "      <td>...</td>\n",
       "      <td>...</td>\n",
       "      <td>...</td>\n",
       "      <td>...</td>\n",
       "      <td>...</td>\n",
       "      <td>...</td>\n",
       "      <td>...</td>\n",
       "      <td>...</td>\n",
       "      <td>...</td>\n",
       "      <td>...</td>\n",
       "      <td>...</td>\n",
       "      <td>...</td>\n",
       "      <td>...</td>\n",
       "      <td>...</td>\n",
       "    </tr>\n",
       "    <tr>\n",
       "      <th>676260</th>\n",
       "      <td>0.0</td>\n",
       "      <td>0.000000</td>\n",
       "      <td>0.0</td>\n",
       "      <td>0.000000</td>\n",
       "      <td>0.000000</td>\n",
       "      <td>0.000000</td>\n",
       "      <td>0.000000</td>\n",
       "      <td>0.0</td>\n",
       "      <td>0.000000</td>\n",
       "      <td>0.000000</td>\n",
       "      <td>0.000000</td>\n",
       "      <td>0.000000</td>\n",
       "      <td>0.0</td>\n",
       "      <td>0.110095</td>\n",
       "      <td>0.000000</td>\n",
       "      <td>0.0</td>\n",
       "      <td>0.000000</td>\n",
       "      <td>0.0</td>\n",
       "      <td>0.0</td>\n",
       "      <td>0.000000</td>\n",
       "    </tr>\n",
       "    <tr>\n",
       "      <th>676261</th>\n",
       "      <td>0.0</td>\n",
       "      <td>0.000000</td>\n",
       "      <td>0.0</td>\n",
       "      <td>0.000000</td>\n",
       "      <td>0.000000</td>\n",
       "      <td>0.000000</td>\n",
       "      <td>0.000000</td>\n",
       "      <td>0.0</td>\n",
       "      <td>0.000000</td>\n",
       "      <td>0.000000</td>\n",
       "      <td>0.000000</td>\n",
       "      <td>0.000000</td>\n",
       "      <td>0.0</td>\n",
       "      <td>0.000000</td>\n",
       "      <td>0.000000</td>\n",
       "      <td>0.0</td>\n",
       "      <td>0.000000</td>\n",
       "      <td>0.0</td>\n",
       "      <td>0.0</td>\n",
       "      <td>0.000000</td>\n",
       "    </tr>\n",
       "    <tr>\n",
       "      <th>676262</th>\n",
       "      <td>0.0</td>\n",
       "      <td>0.000000</td>\n",
       "      <td>0.0</td>\n",
       "      <td>0.000000</td>\n",
       "      <td>0.000000</td>\n",
       "      <td>0.000000</td>\n",
       "      <td>0.000000</td>\n",
       "      <td>0.0</td>\n",
       "      <td>0.000000</td>\n",
       "      <td>0.000000</td>\n",
       "      <td>0.000000</td>\n",
       "      <td>0.000000</td>\n",
       "      <td>0.0</td>\n",
       "      <td>0.000000</td>\n",
       "      <td>0.000000</td>\n",
       "      <td>0.0</td>\n",
       "      <td>0.000000</td>\n",
       "      <td>0.0</td>\n",
       "      <td>0.0</td>\n",
       "      <td>0.000000</td>\n",
       "    </tr>\n",
       "    <tr>\n",
       "      <th>676263</th>\n",
       "      <td>0.0</td>\n",
       "      <td>0.000000</td>\n",
       "      <td>0.0</td>\n",
       "      <td>0.000000</td>\n",
       "      <td>0.000000</td>\n",
       "      <td>0.188888</td>\n",
       "      <td>0.000000</td>\n",
       "      <td>0.0</td>\n",
       "      <td>0.000000</td>\n",
       "      <td>0.000000</td>\n",
       "      <td>0.000000</td>\n",
       "      <td>0.000000</td>\n",
       "      <td>0.0</td>\n",
       "      <td>0.000000</td>\n",
       "      <td>0.000000</td>\n",
       "      <td>0.0</td>\n",
       "      <td>0.000000</td>\n",
       "      <td>0.0</td>\n",
       "      <td>0.0</td>\n",
       "      <td>0.000000</td>\n",
       "    </tr>\n",
       "    <tr>\n",
       "      <th>676264</th>\n",
       "      <td>0.0</td>\n",
       "      <td>0.000000</td>\n",
       "      <td>0.0</td>\n",
       "      <td>0.000000</td>\n",
       "      <td>0.000000</td>\n",
       "      <td>0.138178</td>\n",
       "      <td>0.000000</td>\n",
       "      <td>0.0</td>\n",
       "      <td>0.000000</td>\n",
       "      <td>0.000000</td>\n",
       "      <td>0.000000</td>\n",
       "      <td>0.000000</td>\n",
       "      <td>0.0</td>\n",
       "      <td>0.000000</td>\n",
       "      <td>0.000000</td>\n",
       "      <td>0.0</td>\n",
       "      <td>0.000000</td>\n",
       "      <td>0.0</td>\n",
       "      <td>0.0</td>\n",
       "      <td>0.000000</td>\n",
       "    </tr>\n",
       "  </tbody>\n",
       "</table>\n",
       "<p>676265 rows × 20 columns</p>\n",
       "</div>"
      ],
      "text/plain": [
       "        005       020  030        38  citation     clean   control  critical  \\\n",
       "0       0.0  0.000000  0.0  0.000000  0.000000  0.000000  0.000000       0.0   \n",
       "1       0.0  0.000000  0.0  0.000000  0.000000  0.148176  0.000000       0.0   \n",
       "2       0.0  0.000000  0.0  0.133691  0.152897  0.000000  0.000000       0.0   \n",
       "3       0.0  0.090842  0.0  0.063374  0.072478  0.044005  0.093723       0.0   \n",
       "4       0.0  0.000000  0.0  0.000000  0.000000  0.125810  0.000000       0.0   \n",
       "...     ...       ...  ...       ...       ...       ...       ...       ...   \n",
       "676260  0.0  0.000000  0.0  0.000000  0.000000  0.000000  0.000000       0.0   \n",
       "676261  0.0  0.000000  0.0  0.000000  0.000000  0.000000  0.000000       0.0   \n",
       "676262  0.0  0.000000  0.0  0.000000  0.000000  0.000000  0.000000       0.0   \n",
       "676263  0.0  0.000000  0.0  0.000000  0.000000  0.188888  0.000000       0.0   \n",
       "676264  0.0  0.000000  0.0  0.000000  0.000000  0.138178  0.000000       0.0   \n",
       "\n",
       "        droppings  foundation    issued      live  mice      need      pest  \\\n",
       "0        0.000000    0.000000  0.000000  0.000000   0.0  0.000000  0.000000   \n",
       "1        0.000000    0.000000  0.000000  0.000000   0.0  0.000000  0.000000   \n",
       "2        0.000000    0.160525  0.152331  0.000000   0.0  0.000000  0.000000   \n",
       "3        0.212139    0.076094  0.072210  0.234314   0.0  0.000000  0.169501   \n",
       "4        0.000000    0.000000  0.000000  0.000000   0.0  0.000000  0.000000   \n",
       "...           ...         ...       ...       ...   ...       ...       ...   \n",
       "676260   0.000000    0.000000  0.000000  0.000000   0.0  0.110095  0.000000   \n",
       "676261   0.000000    0.000000  0.000000  0.000000   0.0  0.000000  0.000000   \n",
       "676262   0.000000    0.000000  0.000000  0.000000   0.0  0.000000  0.000000   \n",
       "676263   0.000000    0.000000  0.000000  0.000000   0.0  0.000000  0.000000   \n",
       "676264   0.000000    0.000000  0.000000  0.000000   0.0  0.000000  0.000000   \n",
       "\n",
       "        policy  priority  site  temperature  violation  \n",
       "0          0.0  0.000000   0.0          0.0   0.000000  \n",
       "1          0.0  0.000000   0.0          0.0   0.000000  \n",
       "2          0.0  0.151667   0.0          0.0   0.140486  \n",
       "3          0.0  0.071895   0.0          0.0   0.066595  \n",
       "4          0.0  0.000000   0.0          0.0   0.000000  \n",
       "...        ...       ...   ...          ...        ...  \n",
       "676260     0.0  0.000000   0.0          0.0   0.000000  \n",
       "676261     0.0  0.000000   0.0          0.0   0.000000  \n",
       "676262     0.0  0.000000   0.0          0.0   0.000000  \n",
       "676263     0.0  0.000000   0.0          0.0   0.000000  \n",
       "676264     0.0  0.000000   0.0          0.0   0.000000  \n",
       "\n",
       "[676265 rows x 20 columns]"
      ]
     },
     "execution_count": 21,
     "metadata": {},
     "output_type": "execute_result"
    }
   ],
   "source": [
    "K = 20  # Select top 10 features\n",
    "selector = SelectKBest(score_func=chi2, k=K)\n",
    "X_tfidf_selected = selector.fit_transform(X_tfidf, y)\n",
    "\n",
    "X_tfidf_matrix_df = pd.DataFrame(X_tfidf_selected.toarray(), \n",
    "                                 columns=tfidfvectorizer.get_feature_names_out()[selector.get_support()])\n",
    "X_tfidf_matrix_df"
   ]
  },
  {
   "cell_type": "code",
   "execution_count": 22,
   "id": "2162c828",
   "metadata": {},
   "outputs": [
    {
     "name": "stdout",
     "output_type": "stream",
     "text": [
      "Training records, X_train: (507198, 46294) y_train: (507198,)\n",
      "Testing records, X_test: (169067, 46294) y_test: (169067,)\n"
     ]
    }
   ],
   "source": [
    "# Split X and y into training and testing sets\n",
    "X_train, X_test, y_train, y_test = train_test_split(X_tfidf, y, test_size=0.25, random_state=123)\n",
    "print(f\"Training records, X_train: {X_train.shape} y_train: {y_train.shape}\")\n",
    "print(f\"Testing records, X_test: {X_test.shape} y_test: {y_test.shape}\")"
   ]
  },
  {
   "cell_type": "code",
   "execution_count": 23,
   "id": "e7035167",
   "metadata": {},
   "outputs": [
    {
     "data": {
      "text/plain": [
       "<507198x46294 sparse matrix of type '<class 'numpy.float64'>'\n",
       "\twith 7948754 stored elements in Compressed Sparse Row format>"
      ]
     },
     "execution_count": 23,
     "metadata": {},
     "output_type": "execute_result"
    }
   ],
   "source": [
    "X_train"
   ]
  },
  {
   "cell_type": "markdown",
   "id": "4c315cd3",
   "metadata": {},
   "source": [
    "### Explain why you selected a particular text pre-processing technique"
   ]
  },
  {
   "cell_type": "markdown",
   "id": "a0bc9325",
   "metadata": {},
   "source": [
    "Text Pre-Processing:<br>\n",
    "We cleaned the text data by converting text to lowercase, tokenizing the text, and removing stop words. <br>\n",
    "\n",
    "Converting text to lowercase ensures uniformity, reducing dimensionality by treating words similar as same. Tokenizing the text breaks down the sentences into individual words, which is crucial for further processing and analysis. Removing stop words, such as \"and,\" \"the,\" and \"is,\" focuses on more meaningful words, enhancing model accuracy. These steps collectively transform raw text into a clean and structured format.\n",
    "\n",
    "\n",
    "Feature Extraction:<br> \n",
    "TF-IDF stands for Term Frequency-Inverse Document Frequency. It is a statistical measure used to evaluate how important a word is to a document in a collection of documents (corpus)\n",
    "\n",
    "In this case TF-IDF is better than other text pre-processing techniques because of it's relevance to inspection data as the inspector comments often contain domain-specific jargon that might be common across many inspections. TF-IDF will help highlight terms that are unique to specific inspections, making it more effective for our classification task. It also helps us balance importance by considering both term frequency and inverse document frequency, thus ensuring that the model focuses on words that have discriminative power."
   ]
  },
  {
   "cell_type": "markdown",
   "id": "6f1de972",
   "metadata": {},
   "source": [
    "### Build a classification model, predicting the outcome of inspection – comments are predictors, target variable is “Results” column"
   ]
  },
  {
   "cell_type": "markdown",
   "id": "617bf08b",
   "metadata": {},
   "source": [
    "#### 1. Logistic Regression Model"
   ]
  },
  {
   "cell_type": "code",
   "execution_count": 24,
   "id": "ab4b6981",
   "metadata": {},
   "outputs": [],
   "source": [
    "# Instantiate a logistic regression model\n",
    "logreg = LogisticRegression(max_iter=10000)"
   ]
  },
  {
   "cell_type": "code",
   "execution_count": 25,
   "id": "f3e97ab9",
   "metadata": {},
   "outputs": [
    {
     "name": "stdout",
     "output_type": "stream",
     "text": [
      "CPU times: user 2 µs, sys: 1e+03 ns, total: 3 µs\n",
      "Wall time: 6.91 µs\n"
     ]
    },
    {
     "data": {
      "text/plain": [
       "LogisticRegression(max_iter=10000)"
      ]
     },
     "execution_count": 25,
     "metadata": {},
     "output_type": "execute_result"
    }
   ],
   "source": [
    "# Train the model using X_train\n",
    "%time \n",
    "logreg.fit(X_train, y_train)"
   ]
  },
  {
   "cell_type": "code",
   "execution_count": 26,
   "id": "8077e362",
   "metadata": {},
   "outputs": [],
   "source": [
    "# Make class predictions for X_test\n",
    "y_pred_log = logreg.predict(X_test)"
   ]
  },
  {
   "cell_type": "code",
   "execution_count": 27,
   "id": "c8468d95",
   "metadata": {},
   "outputs": [
    {
     "name": "stdout",
     "output_type": "stream",
     "text": [
      "Test Accuracy: 71.1%\n"
     ]
    }
   ],
   "source": [
    "# Calculate accuracy of class predictions\n",
    "print(f\"Test Accuracy: {metrics.accuracy_score(y_test, y_pred_log) * 100:.1f}%\")"
   ]
  },
  {
   "cell_type": "code",
   "execution_count": 28,
   "id": "d01d64bd",
   "metadata": {},
   "outputs": [
    {
     "name": "stdout",
     "output_type": "stream",
     "text": [
      "              precision    recall  f1-score   support\n",
      "\n",
      "           0       0.80      0.56      0.66     83427\n",
      "           1       0.67      0.86      0.75     85640\n",
      "\n",
      "    accuracy                           0.71    169067\n",
      "   macro avg       0.73      0.71      0.70    169067\n",
      "weighted avg       0.73      0.71      0.70    169067\n",
      "\n"
     ]
    }
   ],
   "source": [
    "# Calculate precision and recall\n",
    "print(classification_report(y_test, y_pred_log))"
   ]
  },
  {
   "cell_type": "code",
   "execution_count": 29,
   "id": "0ff0540d",
   "metadata": {},
   "outputs": [
    {
     "name": "stdout",
     "output_type": "stream",
     "text": [
      "[[46586 36841]\n",
      " [11953 73687]]\n"
     ]
    }
   ],
   "source": [
    "# Calculate the confusion matrix\n",
    "print(metrics.confusion_matrix(y_test, y_pred_log))"
   ]
  },
  {
   "cell_type": "markdown",
   "id": "80784b0d",
   "metadata": {},
   "source": [
    "#### 2. SVM Model"
   ]
  },
  {
   "cell_type": "code",
   "execution_count": 30,
   "id": "b0358dd8",
   "metadata": {},
   "outputs": [],
   "source": [
    "# Instantiate a SVM model\n",
    "svm = SGDClassifier(max_iter=100, tol=None)"
   ]
  },
  {
   "cell_type": "code",
   "execution_count": 31,
   "id": "669f7357",
   "metadata": {},
   "outputs": [
    {
     "name": "stdout",
     "output_type": "stream",
     "text": [
      "CPU times: user 2 µs, sys: 1 µs, total: 3 µs\n",
      "Wall time: 6.91 µs\n"
     ]
    },
    {
     "data": {
      "text/plain": [
       "SGDClassifier(max_iter=100, tol=None)"
      ]
     },
     "execution_count": 31,
     "metadata": {},
     "output_type": "execute_result"
    }
   ],
   "source": [
    "# Train the model using X_train\n",
    "%time \n",
    "svm.fit(X_train, y_train)"
   ]
  },
  {
   "cell_type": "code",
   "execution_count": 32,
   "id": "36e899e9",
   "metadata": {},
   "outputs": [],
   "source": [
    "# Make class predictions for X_test\n",
    "y_pred_svm = svm.predict(X_test)"
   ]
  },
  {
   "cell_type": "code",
   "execution_count": 33,
   "id": "2afae1b1",
   "metadata": {},
   "outputs": [
    {
     "name": "stdout",
     "output_type": "stream",
     "text": [
      "Test Accuracy: 69.1%\n"
     ]
    }
   ],
   "source": [
    "# Calculate accuracy of class predictions\n",
    "print(f\"Test Accuracy: {metrics.accuracy_score(y_test, y_pred_svm) * 100:.1f}%\")"
   ]
  },
  {
   "cell_type": "code",
   "execution_count": 34,
   "id": "e5b5eaad",
   "metadata": {},
   "outputs": [
    {
     "name": "stdout",
     "output_type": "stream",
     "text": [
      "              precision    recall  f1-score   support\n",
      "\n",
      "           0       0.92      0.41      0.57     83427\n",
      "           1       0.63      0.97      0.76     85640\n",
      "\n",
      "    accuracy                           0.69    169067\n",
      "   macro avg       0.77      0.69      0.66    169067\n",
      "weighted avg       0.77      0.69      0.66    169067\n",
      "\n"
     ]
    }
   ],
   "source": [
    "# Calculate precision and recall\n",
    "print(classification_report(y_test, y_pred_svm))"
   ]
  },
  {
   "cell_type": "code",
   "execution_count": 35,
   "id": "e2cef072",
   "metadata": {},
   "outputs": [
    {
     "name": "stdout",
     "output_type": "stream",
     "text": [
      "[[34138 49289]\n",
      " [ 2977 82663]]\n"
     ]
    }
   ],
   "source": [
    "# Calculate the confusion matrix\n",
    "print(metrics.confusion_matrix(y_test, y_pred_svm))"
   ]
  },
  {
   "cell_type": "markdown",
   "id": "30c50f48",
   "metadata": {},
   "source": [
    "### Visualize results of at least two text classifiers and select the most robust one"
   ]
  },
  {
   "cell_type": "code",
   "execution_count": 36,
   "id": "6cff6e06",
   "metadata": {},
   "outputs": [
    {
     "data": {
      "image/png": "[encoded data removed]",
      "text/plain": [
       "<Figure size 640x480 with 2 Axes>"
      ]
     },
     "metadata": {},
     "output_type": "display_data"
    },
    {
     "data": {
      "image/png": "[encoded data removed]",
      "text/plain": [
       "<Figure size 640x480 with 2 Axes>"
      ]
     },
     "metadata": {},
     "output_type": "display_data"
    }
   ],
   "source": [
    "# Let's plot the confusion matrix for both models to see which one is more robust\n",
    "def plot_confusion_matrix(y_true, y_pred, title):\n",
    "    cm = confusion_matrix(y_true, y_pred)\n",
    "    sns.heatmap(cm, annot=True, fmt='d', cmap='Blues')\n",
    "    plt.title(title)\n",
    "    plt.xlabel('Predicted')\n",
    "    plt.ylabel('True')\n",
    "    plt.show()\n",
    "\n",
    "plot_confusion_matrix(y_test, y_pred_log, \"Logistic Regression Confusion Matrix\")\n",
    "plot_confusion_matrix(y_test, y_pred_svm, \"SVM Confusion Matrix\")"
   ]
  },
  {
   "cell_type": "markdown",
   "id": "3f04bfbf",
   "metadata": {},
   "source": [
    "Both Logistic Regression and SVM models demonstrated high accuracy, precision, recall, and F1-scores. However, the Logistic Regression model slightly outperformed the SVM model with a marginally higher accuracy (71% vs 69%). Also, Logistic Regression is more interpretable than SVM, as it provides clear insights into the importance of each feature (word) in predicting the outcome.\n",
    "\n",
    "Given the slightly better performance and ease of interpretation I ended up choosing Logistic Regression as the most robust model for predicting inspection outcomes based on inspectors’ comments."
   ]
  }
 ],
 "metadata": {
  "environment": {
   "kernel": "python3",
   "name": "common-cpu.m107",
   "type": "gcloud",
   "uri": "gcr.io/deeplearning-platform-release/base-cpu:m107"
  },
  "kernelspec": {
   "display_name": "Python 3 (ipykernel)",
   "language": "python",
   "name": "python3"
  },
  "language_info": {
   "codemirror_mode": {
    "name": "ipython",
    "version": 3
   },
   "file_extension": ".py",
   "mimetype": "text/x-python",
   "name": "python",
   "nbconvert_exporter": "python",
   "pygments_lexer": "ipython3",
   "version": "3.9.13"
  }
 },
 "nbformat": 4,
 "nbformat_minor": 5
}
